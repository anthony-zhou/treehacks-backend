{
 "cells": [
  {
   "cell_type": "code",
   "execution_count": 8,
   "metadata": {},
   "outputs": [
    {
     "name": "stdout",
     "output_type": "stream",
     "text": [
      "130\n"
     ]
    },
    {
     "data": {
      "text/plain": [
       "'INTERVIEWER:\\ncall. Yeah wait the budgeting thing.'"
      ]
     },
     "execution_count": 8,
     "metadata": {},
     "output_type": "execute_result"
    }
   ],
   "source": [
    "from sentence_transformers import SentenceTransformer, util\n",
    "import json\n",
    "# Open json\n",
    "with open(\"tmp.json\") as f:\n",
    "    chunks = json.load(f)\n",
    "\n",
    "print(len(chunks))\n",
    "chunks[0]"
   ]
  },
  {
   "cell_type": "code",
   "execution_count": 10,
   "metadata": {},
   "outputs": [
    {
     "data": {
      "application/vnd.jupyter.widget-view+json": {
       "model_id": "06cde70d827c43289442274f75db553b",
       "version_major": 2,
       "version_minor": 0
      },
      "text/plain": [
       "Downloading (…)a8e1d/.gitattributes:   0%|          | 0.00/1.18k [00:00<?, ?B/s]"
      ]
     },
     "metadata": {},
     "output_type": "display_data"
    },
    {
     "data": {
      "application/vnd.jupyter.widget-view+json": {
       "model_id": "8db857a25456477eb25c44a25e5c4888",
       "version_major": 2,
       "version_minor": 0
      },
      "text/plain": [
       "Downloading (…)_Pooling/config.json:   0%|          | 0.00/190 [00:00<?, ?B/s]"
      ]
     },
     "metadata": {},
     "output_type": "display_data"
    },
    {
     "data": {
      "application/vnd.jupyter.widget-view+json": {
       "model_id": "5684aa49c7464cfdbe5a963bff8f5c17",
       "version_major": 2,
       "version_minor": 0
      },
      "text/plain": [
       "Downloading (…)b20bca8e1d/README.md:   0%|          | 0.00/10.6k [00:00<?, ?B/s]"
      ]
     },
     "metadata": {},
     "output_type": "display_data"
    },
    {
     "data": {
      "application/vnd.jupyter.widget-view+json": {
       "model_id": "5494408112a74493afcc839d1a280d42",
       "version_major": 2,
       "version_minor": 0
      },
      "text/plain": [
       "Downloading (…)0bca8e1d/config.json:   0%|          | 0.00/571 [00:00<?, ?B/s]"
      ]
     },
     "metadata": {},
     "output_type": "display_data"
    },
    {
     "data": {
      "application/vnd.jupyter.widget-view+json": {
       "model_id": "74bf16f2b4a546a3860fdaed8574fbaa",
       "version_major": 2,
       "version_minor": 0
      },
      "text/plain": [
       "Downloading (…)ce_transformers.json:   0%|          | 0.00/116 [00:00<?, ?B/s]"
      ]
     },
     "metadata": {},
     "output_type": "display_data"
    },
    {
     "data": {
      "application/vnd.jupyter.widget-view+json": {
       "model_id": "02c0c0d139334aefa1530308ea24dd37",
       "version_major": 2,
       "version_minor": 0
      },
      "text/plain": [
       "Downloading (…)e1d/data_config.json:   0%|          | 0.00/39.3k [00:00<?, ?B/s]"
      ]
     },
     "metadata": {},
     "output_type": "display_data"
    },
    {
     "data": {
      "application/vnd.jupyter.widget-view+json": {
       "model_id": "e5b9a215224543d0aaeaca202c666a1c",
       "version_major": 2,
       "version_minor": 0
      },
      "text/plain": [
       "Downloading (…)\"pytorch_model.bin\";:   0%|          | 0.00/438M [00:00<?, ?B/s]"
      ]
     },
     "metadata": {},
     "output_type": "display_data"
    },
    {
     "data": {
      "application/vnd.jupyter.widget-view+json": {
       "model_id": "7f0b00560a0349b59cbe42594a1de96d",
       "version_major": 2,
       "version_minor": 0
      },
      "text/plain": [
       "Downloading (…)nce_bert_config.json:   0%|          | 0.00/53.0 [00:00<?, ?B/s]"
      ]
     },
     "metadata": {},
     "output_type": "display_data"
    },
    {
     "data": {
      "application/vnd.jupyter.widget-view+json": {
       "model_id": "05fc15cadbe942f3b3f2666fd778f1b6",
       "version_major": 2,
       "version_minor": 0
      },
      "text/plain": [
       "Downloading (…)cial_tokens_map.json:   0%|          | 0.00/239 [00:00<?, ?B/s]"
      ]
     },
     "metadata": {},
     "output_type": "display_data"
    },
    {
     "data": {
      "application/vnd.jupyter.widget-view+json": {
       "model_id": "d57e5d08a2fe4c3a93cb9ffc450eb9ae",
       "version_major": 2,
       "version_minor": 0
      },
      "text/plain": [
       "Downloading (…)a8e1d/tokenizer.json:   0%|          | 0.00/466k [00:00<?, ?B/s]"
      ]
     },
     "metadata": {},
     "output_type": "display_data"
    },
    {
     "data": {
      "application/vnd.jupyter.widget-view+json": {
       "model_id": "7b97bd6a4c234ffd854676b4bce11eee",
       "version_major": 2,
       "version_minor": 0
      },
      "text/plain": [
       "Downloading (…)okenizer_config.json:   0%|          | 0.00/363 [00:00<?, ?B/s]"
      ]
     },
     "metadata": {},
     "output_type": "display_data"
    },
    {
     "data": {
      "application/vnd.jupyter.widget-view+json": {
       "model_id": "7f85bbdf1b594a0f89d75b2f654d1e24",
       "version_major": 2,
       "version_minor": 0
      },
      "text/plain": [
       "Downloading (…)8e1d/train_script.py:   0%|          | 0.00/13.1k [00:00<?, ?B/s]"
      ]
     },
     "metadata": {},
     "output_type": "display_data"
    },
    {
     "data": {
      "application/vnd.jupyter.widget-view+json": {
       "model_id": "0c713a72bff84b6bbae70d43827cbec5",
       "version_major": 2,
       "version_minor": 0
      },
      "text/plain": [
       "Downloading (…)b20bca8e1d/vocab.txt:   0%|          | 0.00/232k [00:00<?, ?B/s]"
      ]
     },
     "metadata": {},
     "output_type": "display_data"
    },
    {
     "data": {
      "application/vnd.jupyter.widget-view+json": {
       "model_id": "66a3006468e04522a112a43a3c4abe5a",
       "version_major": 2,
       "version_minor": 0
      },
      "text/plain": [
       "Downloading (…)bca8e1d/modules.json:   0%|          | 0.00/349 [00:00<?, ?B/s]"
      ]
     },
     "metadata": {},
     "output_type": "display_data"
    },
    {
     "name": "stdout",
     "output_type": "stream",
     "text": [
      "huggingface/tokenizers: The current process just got forked, after parallelism has already been used. Disabling parallelism to avoid deadlocks...\n",
      "To disable this warning, you can either:\n",
      "\t- Avoid using `tokenizers` before the fork if possible\n",
      "\t- Explicitly set the environment variable TOKENIZERS_PARALLELISM=(true | false)\n",
      "0.4060405194759369 INTERVIEWEE:\n",
      "Yeah. Yeah, so we do, um, the first, like the biggest tool that I use, because honestly it's the most cost effective and I work at startup, like I've been at mid-stage startups and so just like giving you all the context there. Um, what tools that I have, like LinkedIn recruiter, of course, like am on that every single day. Um, in addition to that, the other tool that we use for sourcing is called Findem, which is a more like diversity focused, um, tool, which is really, really cool. Um, and it's nice to see the tool evolving as we've been using it. Um, in addition to that, definitely have like some agencies that I've worked with in the past, but those are pretty pricey. So typically we try to avoid agencies, um, as much as possible, unless it's like a really niche role or like an executive level role. In addition to that, the other thing that we could utilize and have utilized would be partner programs. Um, so there's a program called Breakline, which focuses more, more so, which actually totally focuses on helping, um, veterans who are looking to transition into careers, um, in the tech industry. Um, I've also worked with, uh, Year Up, which is a program that teaches, um, that gives, helps, uh, the population, like people who haven't gone to school, um, gives them like training and then launches them into internships. And so those are for more so for like my entry-level like IT roles, like help desk, um, utilize that for, and, uh, yeah, most of the programs we partner with are for diversity purposes. Um, but have definitely seen a lot of success there.\n",
      "0.3875714838504791 INTERVIEWER:\n",
      "Right, because that's always baffled me that people like were able to use agencies for like, I think we heard that was called retained search or like basically searching for my senior positions. It just felt counterintuitive to me for someone to have to internalize all those like standards and that you would have that they don't quite understand.\n",
      "0.38462814688682556 INTERVIEWEE:\n",
      "I don't know if I've ever had anyone land like a full time job, but it definitely gives them the opportunity to like continue to network, which again, like helpful for the future. Always nice to like know recruiters, not that we're always like still helpful, but helping like knowing them doesn't hurt. That's for sure.\n",
      "0.3783678710460663 INTERVIEWER:\n",
      "Oh yeah something that I wanted to maybe pull an opinion just your personal perspective on it do you feel like uh referral hires interfere with diversity?\n",
      "0.3779454231262207 INTERVIEWER:\n",
      "And a quick question from these like sort of candidate sharing pools, have you ever hired someone from there or like brought them into the pipeline? I haven't.\n",
      "0.36804330348968506 INTERVIEWER:\n",
      "Sure. So we're kind of looking at is like into specifically silver medalists. So these are people who like for whatever reason, like due to potentially like overqualification, visa issues, location issues, salary negotiations, or they're just barely beat out by gold medalists. And what we see is that like these silver medalists who go through the entire pipeline are like spending copious amounts of time like interviewing and companies keep just re-interviewing the same people. And like what we think is that we can create like a peer-to-peer network specifically that's recruiter oriented because we believe that recruiters have the most information or the most connected about specific candidate so they can share talent across organizations in order to foster goodwill and relationships with the candidate themselves. So like you will, they will like you because you help them find the next job and hopefully also give them the training. So once they go to the next job, the next time you need them, they'll call them back and be like, hey, we have new job opening here and have a rediscovery platform as well.\n",
      "0.36393067240715027 INTERVIEWEE:\n",
      "Uh that's a good question uh not always the places where I see it and please keep this between like if you're welcome to have this information just please don't tie it to my name with sales um never I have not seen much diversity with sales hires um it's just like again a bunch of white dudes referring white dudes which is like a chronic problem within sales and the other time where I find referrals getting in the way of diversity is for interns. I cannot tell you how vehemently against um referrals for interns I am it's just everyone thinks that their son like deserves a spot um and it's like they they might they have to go through the interview process uh but they could um but yeah.\n",
      "0.36133813858032227 INTERVIEWEE:\n",
      "Um, that's a really good question. I kind of both to those, um, really like quality of candidates is something that's absolutely like top of mind, especially when we think about sourcing where we're getting candidates from. So like, for example, like we feel Glassdoor and Indeed are like one company now. Um, we barely do on anything on Indeed because we haven't gotten like historically, it doesn't have like a whole, whole lot for us there. Um, so it's kind of the same thing when we think about like our sourcing channels. Um, as long as we're getting like great qualified candidates with the easy search strings that we're doing, then it checks out, but there are times like there'll be case by cases, like changes as well. Let's see. Okay.\n",
      "0.3453959822654724 INTERVIEWEE:\n",
      "No that one actually has to come from the org. It's like we have the recruiters to do this but this is you want to go outside so you need to use budget for it.\n",
      "0.3390708565711975 INTERVIEWER:\n",
      "So you said you talked to recruiters that are like not in your company through like these Slack groups, I think you said. Yeah. How do you like, is there any like recruiters that you know that are not just like random, um, like Slack groups or, um, recruiters? I guess like, uh, an answer could be like, I talked to recruiters a lot from companies that used to work at. Yes. Okay.\n",
      "0.3389991521835327 INTERVIEWEE:\n",
      "I do. I honestly need to do a much better job of it, but I am in a couple of different like recruiting groups. Um, it's honestly like best practice for recruiters to be, um, chatting with recruiters, uh, just to know like how the market's going. Um, and also for like benchmarking info, like that's also super helpful.\n",
      "0.333138644695282 INTERVIEWEE:\n",
      "We have, so one was a recruiter that I tried to recruit who invited me to a recruiter's and only group. And then the other one is this like talent academy thing that I'm like training through.\n",
      "0.33170974254608154 INTERVIEWEE:\n",
      "We have it, um, how he passes, we have different verticals. So we have our go to market teams, uh, which is, you know, sales team, um, customer org, all of that good stuff. Uh, I handle our marketing in GNA marketing typically gets like thrown under go to market a lot. Um, but no, I have changed the game. Uh, and then we have our engineering department. And so we have coordinators who support, um, like departments, but also, uh, right now, because you know, the economy is what it is. We have them just like tied to different recruiters. In addition to that, the coordinators will also help us source. So recruiters are tied to like certain verticals and then the rest of the team kind of cascades, like wherever they're, um, whoever needs help.\n",
      "0.330922394990921 INTERVIEWER:\n",
      "Well, I guess something that I'm kind of curious about again, I sorry, I keep using that phrase because I'm curious about a lot. But with external recruiters, is there any kind of conflict of interest that you ever feel you experience in sharing information? And like how do you know? Yeah, honestly, like agencies like can be so annoying.\n",
      "0.3237582743167877 INTERVIEWER:\n",
      "And so um for content, do you guys do you guys have a referral program for employees? We do yeah. And so like what's like the referral bonus on a software engineer junior level or do you have like a schema for that?\n",
      "0.3234618008136749 INTERVIEWER:\n",
      "Yeah, and I'm curious about these people that you like kind of help them put and help them out to their next job. Like are these sort of conversions and introductions successful from your perspective?\n",
      "0.32227247953414917 INTERVIEWER:\n",
      "And I guess just because we know so little about the area, would you mind kind of expanding, um, like how do connections to other recruiters generally, um, I guess like are helpful to your work? Because I think the benchmarking thing definitely makes sense. Um, but also like talent sharing, is that something that you do with external recruiters?\n",
      "0.31935375928878784 INTERVIEWEE:\n",
      "Um, that's a great question because the roles that we like each vertical like works on is like pretty different. Um, like people within like the sales, like recruiting, or if I'm like talking to like a marketing candidate who has similar like sales skills, like we'll pass some candidates back and forth. In fact, I hired a web developer, which like could technically sit in the engineering department because we were looking for a lot of, um, front end, uh, skills. And so my friend and I like pass candidates back and forth to each other, um, from the engineering recruiting team. So if we see potential for the candidate and we really like them, we'll be like, if we see a candidate and we really like them, then we'll absolutely, um, shoot, share them across the board.\n",
      "0.31819361448287964 INTERVIEWEE:\n",
      "They can just be so annoying. And it feels some of the times, not all of them, but some of the times it's like, oh, I feel like they're just trying to get the deal and aren't actually paying attention to what's like good is like for the candidate and for the role. And so sometimes I think that they're more money driven than like success, like true success driven. But that's not all the time, not always the rule. The rule is almost that they're always annoying, but that's neither here nor there.\n",
      "0.31662192940711975 INTERVIEWER:\n",
      "Yeah, the monetization is kind of something that we are particularly worried about at the moment. It may be that we, yeah, ideally we're trying to make this platform free because like we're kind of in the best interest of the candidate and the recruiter by doing that. So like we're just trying to find ways to monetize from specifically the top level. Like I guess the better question is like who would we have to convince to make it so that they can receive money and give money for these specific candidates? Like who makes the decisions on like for example like paying the agencies or like deciding to use this specific agency or this specific contract?\n",
      "0.31475964188575745 INTERVIEWER:\n",
      "Okay. And yeah, I guess in terms of, cause internal collaboration, um, we definitely understand how that's helpful to your work, but do you ever talk to people that aren't necessarily at your company? Like also recruiters?\n",
      "0.3144097626209259 INTERVIEWEE:\n",
      "No, that's great. My only concern, and this is just like, I think, just like, and this isn't even a concern, but just like the first thing that I thought of is just like letting them know, like, like what points, like adding people to that and where the cutoff, like kind of ends from the recruiters. So just like how we make sure, like, cause I don't necessarily like trust another recruiters opinion. Even on like on my team, I can like read deep into their notes. And so I think just as much like I can know until like what the recruiter is asking and like if the role like is similar. So I think like just like the second, like secondary, like vetting questions that I would do to put one of those candidates in up for one of my roles and what that honestly, like what the cost would be. I keep bringing up costs, but it's because he has been super stingy lately. So yeah.\n",
      "0.30701979994773865 INTERVIEWEE:\n",
      "I think that could definitely work and then that would take out a lot of the that would take out the budget concerns. I'm not sure what budget our referrals come from probably the people team budget but yeah I think that's a great way to do it and people would absolutely be very down for that.\n",
      "0.30490997433662415 INTERVIEWER:\n",
      "So for these candidates, these are candidates that you like really like or these like candidates that like super talented, but you guys couldn't hire for some reason?\n",
      "0.3046811521053314 INTERVIEWEE:\n",
      "Definitely have a lot of like my friends from my previous company would be, um, my other recruiter friends.\n",
      "0.3017967939376831 INTERVIEWEE:\n",
      "Hey, well great to talk to you, Paula Longhorns. I will do anything I can to help you out for now and for forever. Hopefully I'm actually helpful. So we don't know.\n",
      "0.3004400134086609 INTERVIEWER:\n",
      "And like how often do you talk to them?\n",
      "0.29974010586738586 INTERVIEWEE:\n",
      "Sometimes it is. There was like I've only had I can only think of like one real candidate where it just like broke my heart to say no to them because I for a multitude of reasons. One, I was obsessed with them too. I thought we were making the wrong hire and I told the hiring manager that and three, they were so emotionally invested. So that one was tough. It's never fun, especially like people who are early in their career. That stuff like pumps me out. Like if it's their first job and they're really excited or an intern, it just just makes me don't get to hire them.\n",
      "0.29843869805336 INTERVIEWEE:\n",
      "Yeah and that like there again like some people are better with it but like bias also like comes into play a lot and that's where I can get like it's like oh you guys are making choices on things that are illegal to make choices about but.\n",
      "0.2923894226551056 INTERVIEWER:\n",
      "Oh yeah. Something that I was particularly, um, excited to ask is if you will, in general terms, do you like rank these sort of type of sourcing channels in your head? Maybe in terms of like the quality of candidates, like how reliable it is, or is it like very extremely on a case by case basis?\n",
      "0.2900588810443878 INTERVIEWEE:\n",
      "programs here's the ply link. I wanted to I thought about it but I was told I got into I got into trouble at my previous company for telling them we weren't just gonna hire\n",
      "0.287782222032547 INTERVIEWER:\n",
      "Oh, yeah, actually, one last question. It's like, I guess at your company, how are you like evaluated? Like what what is like a good what is a good recruiter have? Like, is it time to fill? Is it like, you know, the dollars brought in number of applications, stuff like that?\n",
      "0.2857348620891571 INTERVIEWER:\n",
      "And I'm curious, so like what procedures, like what do you typically do as a recruiter if you want to try to like a new or different sourcing channel?\n",
      "0.28505420684814453 INTERVIEWEE:\n",
      "My whole thing is like, if I have a candidate that I'm really stoked on that we couldn't hire, like I want them to get hired someone else. And so like, I'm happy to like share them out or like give them tips on like other companies I know that are hiring for the same role, anything that I can do to help them succeed, especially if I really wanted them to come to my office. And if I really wanted them to come to heap and it just didn't work out for whatever reason.\n",
      "0.2844586968421936 INTERVIEWEE:\n",
      "Yeah, absolutely. I like people I've worked with and know like their work product. I think that's really cool feature.\n",
      "0.2830853760242462 INTERVIEWER:\n",
      "You show anything on this vein store? Oh yeah.\n",
      "0.2821868360042572 INTERVIEWEE:\n",
      "Yeah. And I can actually, I'm happy to share my screen just to like give y'all an example. So what we have, um, hold on, bear with me, candidate chair. So I am in this group for, that is more so focused on, um, uh, like early in career stuff. So college, like internships, all of that stuff. And so we have a whole, clearly haven't been in here in a while. Um, but we do have, uh, like candidate share channels. So we have this in this group. I'm also in like a talent, like leadership group, um, that is, uh, meet someone new. We have a whole candidates channel here, um, and this one I think is more so just passing back and forth, um, different like recommendations for like other jobs. But that's also like why networking works. Um, and you know, just understanding like what companies are good to work out for recruiting, what companies are not good to work out for recruiting.\n",
      "0.28004375100135803 INTERVIEWEE:\n",
      "So it's something like, like if we're talking about like comp bands for like a certain role and like we might have, like, uh, especially at a company our size, like we don't have a comp, like we have access to Radford data, which is how, like a lot of most companies use to get like their compensation bands. Um, but if it's something like we're seeing more in the market, um, for example, at my last company, we had a really hard time hiring solutions engineers because we kept running into like salary being an issue. And so like at that point you can reach out to like, if you're in a recruiting network, you can reach out to like your network and be like, Hey, like, what are you seeing? Like, what are y'all paying? And like, there's ways that you can like get more data to support what you, what you need.\n",
      "0.27792078256607056 INTERVIEWEE:\n",
      "Yeah, there are times and they honestly like a good, I think, example of this, like when an agency came in super handy. So I started off our search for our VP controller. The controller market was super, super hot. I mean, controller, how fun. Who wouldn't want to do that? And I reached out to so many people, tried so many different messaging campaigns and just like was not getting responses. And that's quite frankly because the candidates like didn't respond to someone that like at my level, I just like didn't make it on their radar. They get tons of messages. And so we hired a search firm who had like expertise specifically in finding controllers for B2B SaaS companies. And so that's when it was super helpful because they just like candidates, like quite frankly, they just like didn't care to respond to me. Fun fact, the VP controller we hired didn't come through me. I messaged her, but she responded to the agency and not me. I don't know if she knows that, but she is dead to me. Not really, but it is a fun fact. Yeah, you should tell her. I want to.\n",
      "0.27750715613365173 INTERVIEWER:\n",
      "I actually do have a question though. So the way that we monetize is rather jank to be honest. We were trying to do like a virtual agency model in which upon hiring effectively the agency takes like a certain percentage of that and we were trying to majority of it back to the initial sourcing company. So our theory is that eventually that will create like a more like an entire ecosystem where like across companies they can share resources. But the main concern that I have is like, are companies able to receive this money? Like if let's say like your company and I have a company here and then I hire silver medalists from your pool, right? Is it easy for me to give you money? And I guess conversely if you were to do the do it like vice versa, is it easy for you to be able to give me the money?\n",
      "0.2757369875907898 INTERVIEWEE:\n",
      "I would like for you our ex and Zach I'll send you I'll email you and give you like all of the ways to like pop into that. I would reach out to like recommend reaching out to the people who are in charge of it just to like get on their radar. Going beyond that I'm trying to think if I have any other ideas like any recruiting groups. Any recruiting groups yeah and just the other thing that's coming to mind is just the legality like if I was thinking I was like oh if I were to try that out I'd be happy to share but like I don't know what like data I can legally share and so like I'd want to have like the thumbs up from our legal team if we're making this like official.\n",
      "0.2592577040195465 INTERVIEWEE:\n",
      "sourcing source. Yeah, definitely. I mean, and I feel, I would hope that this is on the top of everyone's mind, but would like diversity purposes. Um, I'm sure that we have all encountered it, lots of white, white dudes, um, which, you know, uh, great, but let's open the aperture a little bit. So first and foremost, it would be just around like their ability to help with diversity tools. Um, in addition to that would be like automating and scaling. Um, so ways for me to like plug and play without having to think critically about what I'm doing. Um, that's what I like about FindM. It's like using the search strings that you have. Like it should make it like your entire project. You can just set it up to where it sends messages. Um, also the ability to something that I've been running into lately is just the ability to send messages on behalf of executives. Uh, there's only so many recruiters that people want to talk to. I get it. Uh, so the ability to like, just like scale my approach and loop in other like sources, so it's not just messages coming from me. Um, and also, yeah, something that's like easy and, um, not too like difficult. Also something that, uh, works nicely with our applicant tracking system. And, um, it's just like easy to get like metrics from, um, because that is something people care about.\n",
      "0.2565947473049164 INTERVIEWEE:\n",
      "is really interesting. Yeah it makes me actually that's actually like what made me we were going to have an intern program this year but it got cut because of budget but like what makes I never want to be a part of an intern program build again because I do not like the amount of referrals that\n",
      "0.25572115182876587 INTERVIEWER:\n",
      "So like one way that we're planning on helping, I guess like the there's like it's weird because it's a two sided marketplace for people who are sharing talent and people who are hiring talent. However, both users, both sides of the market are like the same person. So this is different from like Uber, like drivers and like passengers. It's like, yeah, similar dynamics, but different. And so in order to like make the system work more smoothly and be more relevant, we want to do like job description matching. So they like the person who's listing their silver medalist, they have like the example what their job description is. And then if you're searching for a specific job, you can kind of match your description with their description to find hopefully more relevant candidates.\n",
      "0.25524404644966125 INTERVIEWEE:\n",
      "Yeah good solid follow-up point I apologize for not being clear. If it was if we were hiring for like a marketing role and use an agency then the agency fee like should ideally come from the marketing team so it ultimately just depends on like how the like our chief marketing officer has their budget so like do they have budget to bring on an agency and we try to do as much like in-house recruiting as possible like it's always the goal on the two companies that I've worked in to try to get as away from agency hiring as is possible. Agencies come in handy for like Japan you like have to use agencies in Japan and like for when they're like really niche roles but we like are constantly trying to get away from agencies.\n",
      "0.25106698274612427 INTERVIEWER:\n",
      "come through for it is just it it's not fun. Maybe it would be like an interesting thing to like block referrals for internship programs because yeah we don't do referrals for internship\n",
      "0.25012391805648804 INTERVIEWER:\n",
      "Um, yeah, and so basically like the point where you, um, sorry, the point where you have to get your, like the manager recruiting to come step on and like ask to get permission is when it's anything to do with like paying, um, for something preemptively or it's like, if you've got a talent that's like source through some free program, would you be able to like get, do you have to like, and you have to pay the program at that point? Would that become an issue if you didn't source with the hiring manager beforehand?\n",
      "0.2485426962375641 INTERVIEWER:\n",
      "I mean, not in this specific area, I guess. Just cause I'm kind of curious about collaborative work still. But, um, when you describe people having different verticals, does that make it so it's hard for you to say like, interview somebody and be like, oh, that's a good person for my coworker to also talk to. Does that just not happen as often if you know, y'all don't have as much overlap?\n",
      "0.24195240437984467 INTERVIEWER:\n",
      "So I mean right now we're at the point where we like we like talked to a bunch of recruiters and validated some things and like you know gotten some like idea that yeah this is the thing that we want to like at least make a demo for and so right now we're currently building a demo like a proof of concept to just test the hypothesis that people are willing to list their silver medalist talent and people are willing to like view silver medalist talent and maybe then click in on them. And so that's like going to look like a small web app it's like a like an application on like a website. The way that we're planning on like launching this prototype is talking with people that we previously talked with and seeing if they have interest in using it and just doing it small stuff like that. Do you have any advice on like channels to reach recruiters to like deliver our product to or outreach them?\n",
      "0.23253758251667023 INTERVIEWEE:\n",
      "That is a very good question. So a multitude of things. So we have a certain number of like points that we're supposed to hit, which they attach points to points are determined on like niche of role and level of role. So we have a certain number of like hires that we're supposed to make, which are ultimately like boiled down to like how many points we bring in. So that's how he does it. Time to fill is something that's also super important. Also metrics of like source for hire. So like sourcing is a big thing that he has big been big on. We previously had most of our hires coming from inbound applications and they wanted to see at least like 30 percent, which is kind of unrealistic of those hires come from sourcing. But yeah, so those would be the big things. Cool.\n",
      "0.22642119228839874 INTERVIEWEE:\n",
      "I would, and this is how he does it. I would definitely have my head. We have like an operations function, so we have someone leading our operation. So I would actually reach out to them. Um, and it would be if I were having trouble, like getting the quality of candidates that I needed, whether it was diversity focused or like skills focused. Um, if I were going to try something, I would definitely have her name's Liv. I would have Liv with me on demos. I would do as much research as I could myself and then reach out to Liv because ultimately she's the one who has to give it the okay. In addition to our head of talent, um, and just like pricing is such a big thing.\n",
      "0.22458550333976746 INTERVIEWEE:\n",
      "With agencies and I'm not sure how it works on the back end. We have the source like mapped out in greenhouse and then once the source comes through it's up to our talent ops team to like talk to finance about how that gets paid out.\n",
      "0.2225491851568222 INTERVIEWER:\n",
      "And one thing that we're not like planning on doing now just because like we need to consult with a lawyer for this and it might be like more difficult but getting like specific interview data from companies like what would be required to do this obviously you would need like some sort of company consent on behalf of the recruiter because like that's a lot of power but yeah I guess you can go into that.\n",
      "0.2180265337228775 INTERVIEWER:\n",
      "questions that I have around that. Awesome well this it sounds like what y'all are working on is\n",
      "0.21796894073486328 INTERVIEWER:\n",
      "And I guess this is just a question to hear from me. It's like, is it is it like emotionally difficult to like reject candidates?\n",
      "0.21718615293502808 INTERVIEWER:\n",
      "That's so interesting I did not know that.\n",
      "0.21690136194229126 INTERVIEWEE:\n",
      "Yeah, something like for whatever, like weird, like there might be like one reason or anything, but ultimately, like they're I think they're incredibly great at what they do. And I would like to see them continue to succeed or they might just be a really wonderful person who has the opportunity to learn and grow pretty quickly. That would be the other reason too.\n",
      "0.21462848782539368 INTERVIEWEE:\n",
      "I just like don't love, networking is just like counterintuitive to my personality. I just like don't like bugging people if there's no point in me, like chatting with them. I just like don't like building connections for the sake of just like having connections and just a personality thing for me. But it is honestly like truly helpful, especially when it comes time to look for new roles. Gotcha.\n",
      "0.21364982426166534 INTERVIEWEE:\n",
      "Of course. Let me, yeah, let me, hold on. For, I think it's free to get into URX. Um, but let me do some digging. These, these ones I can't do necessarily, but URX, I think I could.\n",
      "0.21233205497264862 INTERVIEWEE:\n",
      "like a, like a, like we could, um, like, I feel like someone would like at me, Greenhouse is our ATS. So someone would like at me in the note section on Greenhouse. Um, but if it was something outside of Greenhouse, like LinkedIn, I've gotten added in, um, or people have left me notes on, but those are the only cases where it would be like over Slack. Um, probably.\n",
      "0.21074816584587097 INTERVIEWEE:\n",
      "Let me, hold on, let me go into our, um, going into our HR, um, I asked to see what her official title is, um, in charge of everything. Um, she's our manager of recruiting operations is her title.\n",
      "0.20905686914920807 INTERVIEWER:\n",
      "This is kind of throwing me back to when you said there's like a lot of people who are like throwing me back to when you said there's like software that you can email through like your CEO or something. Do you think that this will help with that? Is that kind of what you did?\n",
      "0.20841161906719208 INTERVIEWER:\n",
      "Yeah something that we're thinking about is like in order to make it so that you don't have any liability we'd send this form to you and you basically send this link to all the people you want and then they fill out the form so they basically implicit. Okay yeah that's great.\n",
      "0.20457181334495544 INTERVIEWER:\n",
      "And I'm actually that's first of all that's really interesting that cool. Second thing is like so which budget does the agency take from? Like is it also the people team?\n",
      "0.20399832725524902 INTERVIEWER:\n",
      "Okay. Yeah. And like for the ones that you can't sneak me in, like if you can like just send like later, like some length of like how you got in and I could try to smuggle myself in.\n",
      "0.20351502299308777 INTERVIEWER:\n",
      "Awesome and so like for context instead of having these like large agency fees I think they could be up to like 25 percent. I think they're normally 15-ish. What about like if instead of doing an agency fee that steep if they did like the referral bonus instead of it going to employee it went to an external company?\n",
      "0.20135176181793213 INTERVIEWER:\n",
      "Okay. So it's, yeah, serious. Okay. Awesome. No, that's perfect. Um, yeah, I've already snuck into one of them, um, from not like the ones that use the SID, but they're pretty like, um, they're pretty entertaining. Not gonna lie. They're all like asking pretty fun questions. Um, yeah. Yeah. Let's see. Yeah.\n",
      "0.19856750965118408 INTERVIEWEE:\n",
      "I think yeah company consent and also like candidate consent if they're open to us sharing that data like we share it internally to the groups who like everyone who's in the hiring process can look at all of the like interview data but yeah I'd want like the candidate to be okay with me sharing their information and I'd want Heap to be okay with me sharing that information like actual like interview stuff.\n",
      "0.19654999673366547 INTERVIEWEE:\n",
      "It kind of depends. Um, about like, I mean, they're at that point, they're my friends. Uh, so like just whenever like we catch up, but I could reach out to them at any point and ask them if, if they need anything, I would say like at least once a quarter, probably for like business stuff and then friends stuff, you know, as things pop up.\n",
      "0.19459745287895203 INTERVIEWER:\n",
      "And to kind of backpedal just a little bit, I'm actually curious, um, about what type of a structure or team you work with internally, like how many people are on the talent acquisition pipeline? How do you collaborate with them? Yeah, so it's broken up.\n",
      "0.19439227879047394 INTERVIEWER:\n",
      "So yeah, like, so like silver medalists, are you familiar with that term?\n",
      "0.19330455362796783 INTERVIEWEE:\n",
      "We do have a schema. Let me, you would think that I would remember but I am not. Let me pull it up. Okay so oh gosh okay so it's five thousand dollars for all technical positions and then two thousand dollars for all other positions. So not based on level just based on vertical.\n",
      "0.18926869332790375 INTERVIEWEE:\n",
      "And companies have it set up in like different ways I think the financing would definitely want to be involved a little bit just because they're the ones doing the projections but yeah I would say ultimately it's a two pronged with the org leader being the biggest person to give the thumbs up.\n",
      "0.18909868597984314 INTERVIEWER:\n",
      "I feel like, so, um, so like what's Liv's official job title. Do you know it's like head of operations for HR?\n",
      "0.18832263350486755 INTERVIEWER:\n",
      "Awesome. Um, yeah. And so I guess, uh, I'll ask like another question. Um, so what do you look for when like choosing and evaluating each sourcing source, as I like to say,\n",
      "0.18744200468063354 INTERVIEWER:\n",
      "Okay. Gotcha.\n",
      "0.18455512821674347 INTERVIEWEE:\n",
      "Yes, absolutely. I got to, I had to build out a fake email account and for our CFO and started messaging people that way. But it was honestly like such a time suck and I couldn't like build the process in the way that I wanted with Findum. So I wanted to send first message, then Steve, and then like someone else and Findum with them. Let me do that.\n",
      "0.18354980647563934 INTERVIEWEE:\n",
      "Yeah, it would just as budget is at the top of everything that we do. So we would want to know like the holistic price before, like if it was something where I'd have to pay at the end, um, and I didn't have the okay from the start, then I wouldn't do it because I wouldn't want to lose the candidate, um, and to make the hiring manager mad at me. Awesome. Thank you.\n",
      "0.18007776141166687 INTERVIEWER:\n",
      "it was a whole thing. Yeah it's always bad when your boss's kid is trying to get the internship. And I'm like oh I'm not getting that. Yeah um yeah that's good yeah I think that's all the\n",
      "0.17481762170791626 INTERVIEWER:\n",
      "I see so it's like for example if it was like a software engineer software engineer through an agency it would be the CTO or the org leader of the technical group.\n",
      "0.174554243683815 INTERVIEWEE:\n",
      "call and this is fun to like nerd out on recruiting so thank you for indulging me for so long um and I hope that y'all go have fun this is a Friday for y'all too like go live it up. Sounds good.\n",
      "0.1707749366760254 INTERVIEWEE:\n",
      "If it were free, um, that would be great. The team heap is like super metrics focused. So as long as we were able to like get the metrics from it, then yeah, would definitely, anyone could try out the free thing. They would probably alert the rest of the team, but anyone could try it out.\n",
      "0.16946353018283844 INTERVIEWEE:\n",
      "Please, I would love to hear.\n",
      "0.1693057119846344 INTERVIEWER:\n",
      "Okay so basically in order to do an agency the CFO has to have budgeted for that right?\n",
      "0.16840395331382751 INTERVIEWER:\n",
      "Perfect.\n",
      "0.1657322198152542 INTERVIEWER:\n",
      "Okay and yeah we're not planning on doing this for like it's only for like silver medalists like people that you loved so it shouldn't be like too negative because I can definitely see like things that can go really badly with that. But yeah okay awesome thank you for that.\n",
      "0.16494548320770264 INTERVIEWEE:\n",
      "I have the second, I imagine like the runner up for the role. Yeah, exactly.\n",
      "0.16438798606395721 INTERVIEWEE:\n",
      "That is a good question. Honestly, my assumption would be no, just because like there's so many like different like thinking through like the contracts and the process like that has to take internally. Some companies have it much more streamlined than others, but I could see like there being like some difficulty there. But I don't know what I don't have a helpful answer as to like what would be streamlined. So I apologize. I see.\n",
      "0.16437125205993652 INTERVIEWEE:\n",
      "Correct it should be it could potentially be their decision.\n",
      "0.1619301587343216 INTERVIEWER:\n",
      "Yes. We realize we're so excited to learn certain words that we use them in a context that maybe not necessarily makes sense.\n",
      "0.16171081364154816 INTERVIEWER:\n",
      "I see. Sorry I'm just unclear real quick with the org leader you were talking about like it comes from the org leaders like for your particular company it's is it the marketing work leader that would pay this this agency fee or like which org leader in your company?\n",
      "0.16165807843208313 INTERVIEWER:\n",
      "I'm sure it'll be helpful. Um, yeah, so basically just like the go over, like what we're, um, hoping to cover in this meeting is that we're in, like, give you some, like, obviously this interview is like way different than our normal, like customer interviews. We have everybody on it and like, it's really like a homie. So, uh, so we're like going to do it like way more chill. Um, we're gonna start with some targeted questions and then we're actually going to share our idea with you and hopefully you can get some feedback and advice. Yeah. Awesome. Um, so I guess we can start with like, um, so you do some talent sourcing, right? Is that correct on that? So like what sourcing resources you use, and this could be like technical, like LinkedIn or non-technical, like, like partner agencies or sort of like, you know, agencies, I guess.\n",
      "0.15997660160064697 INTERVIEWER:\n",
      "Gotcha. Gotcha. Gotcha.\n",
      "0.15680845081806183 INTERVIEWER:\n",
      "Shoot. Law tragedy? Yeah. I'm not sure if.\n",
      "0.1557518094778061 INTERVIEWER:\n",
      "Yeah. I guess is there any things that we, any features we should implement? Any things that are?\n",
      "0.15494346618652344 INTERVIEWER:\n",
      "A great area that I definitely keep getting caught up on is like to what extent are you allowed to just kind of reference I guess like information that's maybe based on understandings that you shared internally but if you're saying like filling out different questionnaire like externally on the platform separately can you maybe not reference or how that works but yeah we definitely need to talk to more people.\n",
      "0.15315674245357513 INTERVIEWER:\n",
      "All right. One last question in this area is, um, since you characterize, I guess your usage in this area is you should do more of. What are some primary reasons that you don't feel like you use those connections as much as you think you should?\n",
      "0.15096576511859894 INTERVIEWER:\n",
      "Yeah, I think I'm good from here. Michelle, are you good?\n",
      "0.14857380092144012 INTERVIEWER:\n",
      "Okay, awesome. Um, and what if the actual platform was free at first or like, would you just like have the ability to just like go on and use it yourself or do you just don't need that?\n",
      "0.14546722173690796 INTERVIEWER:\n",
      "amount of time on a Friday afternoon I bet you just want to be somewhere else. Y'all are my last\n",
      "0.14486010372638702 INTERVIEWEE:\n",
      "Hi. Hi. Oh my gosh, your hair is pulled back. So I couldn't tell. Oh, it's because it's so gross. I worked out Flex earlier today, so I look like hot garbage. Hot garbage.\n",
      "0.14326688647270203 INTERVIEWER:\n",
      "So thoughts, concerns?\n",
      "0.1355823576450348 INTERVIEWER:\n",
      "Can you just, uh, I sorry, I don't actually know what benchmarking info necessarily means.\n",
      "0.13367195427417755 INTERVIEWER:\n",
      "So like I noticed that the referral bonuses are flat and the agency fees are like dynamic based off of like the actual salary. What like is there any difficulties in switching between the two? Like I assume flat is just like easier to do you don't have to like release their pay but like I guess if you can go in that that'd be difficult.\n",
      "0.13298532366752625 INTERVIEWER:\n",
      "Hi. Yeah. Can I call you later? Yeah, yeah, yeah, of course. Your hair looks good. All right, bye Lauren.\n",
      "0.1319282054901123 INTERVIEWER:\n",
      "You could steep into one of these like Slack channels.\n",
      "0.1273355931043625 INTERVIEWER:\n",
      "Awesome. Michelle, do you want to go?\n",
      "0.12507732212543488 INTERVIEWER:\n",
      "And on top of we were thinking of implementing a feature where you can like, you know, like feature where you can have a narrower network with people who you already know, like trust something we're thinking of. Maybe that makes it a little too similar to a social media, but something we're definitely seeing was like there are people who like share definitely more intensely and trust each other more than us.\n",
      "0.12165677547454834 INTERVIEWEE:\n",
      "I'm so sorry. No this is fantastic.\n",
      "0.12049831449985504 INTERVIEWER:\n",
      "Dang like you gave us a lot of information like I'm just kind of like too much.\n",
      "0.11801336705684662 INTERVIEWER:\n",
      "Okay damn that's a great insight yeah I've never like compartmentalized it to like to rules which\n",
      "0.11491711437702179 INTERVIEWER:\n",
      "Yeah, I don't normally do that, but I think that's fine. Your mom is the best. Yeah. Awesome. So I think I'm out of questions again. Anybody else? Cool. Okay. So I guess, is it cool if we share our idea with you?\n",
      "0.11275999993085861 INTERVIEWER:\n",
      "Thanks so much thank you so much have a good one. Bye everyone. Thanks. Dude that was such a great\n",
      "0.11258561164140701 INTERVIEWER:\n",
      "call. Yeah wait the budgeting thing.\n",
      "0.10722765326499939 INTERVIEWEE:\n",
      "That's the coolest. I love that idea. So fun. So fun.\n",
      "0.10715099424123764 INTERVIEWER:\n",
      "Awesome. So I mean, I'm done with questions. Michelle, do you have any more? LSU more?\n",
      "0.10695327818393707 INTERVIEWER:\n",
      "Oh, my mom is FaceTime me. Hey mom, what I'm talking with?\n",
      "0.10288645327091217 Sure.\n",
      "0.10185792297124863 INTERVIEWEE:\n",
      "the absolute coolest uh please feel free I'm happy to be as helpful as I can be um if there are any intros that y'all like see me connected to someone that you would like to make assuming I have a personal relationship happy to introduce you to whoever I can. Awesome that'd be perfect. All\n",
      "0.10008325427770615 INTERVIEWER:\n",
      "And is this sharing done through some tool or do you just like send an email\n",
      "0.09787411987781525 INTERVIEWEE:\n",
      "It has to be in the like leaders because leaders are in charge like our org leaders like our chief marketing officer is in charge of like the whole marketing budget and so they've already got the budget set how they want to like split that up as much up to them as is possible and so yeah it would come out of their budget especially if the people team has the resources already. If it's I think it could come out of the people team budget but I think it comes from the different orgs so it would have to be the org leader the CFO wouldn't need to approve it necessarily. They just need to approve like the percentages is the only time where like legal or like other people get involved like agencies typically want 25% but we like aim for 20% so.\n",
      "0.09251783788204193 INTERVIEWER:\n",
      "my god thank you so much Lauren this has been excellent. Of course thank you so much for this\n",
      "0.07845930755138397 INTERVIEWER:\n",
      "I mean, is there anything that you don't understand that we can, we can definitely go into more detail. That was kind of like rapper style, but yeah.\n",
      "0.07645119726657867 INTERVIEWEE:\n",
      "It boils down, there are a heap, there are three main points on that. So it would be our head of talent acquisition, the head of the like whoever's like budget this is coming from, and then also like our legal team finance team as kind of like the third point. Like assuming the budget's there like finance and legal like don't care. It's just making sure that the contract like works out in a way that we need and it has to like get the okay from our head of talent.\n",
      "0.05251450091600418 That's so funny. Hi.\n",
      "0.031025981530547142 Awesome.\n",
      "0.031025981530547142 Awesome.\n",
      "0.02579527720808983 Okay.\n",
      "0.02579522505402565 Okay.\n",
      "-0.0029893345199525356 Bye.\n"
     ]
    }
   ],
   "source": [
    "\n",
    "query = \"Do people specifically try to hire veterans?\"\n",
    "# docs = [\"Around 9 Million people live in London. The grass there is very pretty and there is great food\", \"London is known for its financial district\", \"I am a big taco fan. My favorite cities for tacos are\"]\n",
    "docs = chunks\n",
    "#Load the model\n",
    "model = SentenceTransformer('sentence-transformers/all-mpnet-base-v2')\n",
    "\n",
    "#Encode query and documents\n",
    "query_emb = model.encode(query)\n",
    "doc_emb = model.encode(docs)\n",
    "\n",
    "#Compute dot score between query and all document embeddings\n",
    "scores = util.dot_score(query_emb, doc_emb)[0].cpu().tolist()\n",
    "\n",
    "#Combine docs & scores\n",
    "doc_score_pairs = list(zip(docs, scores))\n",
    "\n",
    "#Sort by decreasing score\n",
    "doc_score_pairs = sorted(doc_score_pairs, key=lambda x: x[1], reverse=True)\n",
    "\n",
    "#Output passages & scores\n",
    "for doc, score in doc_score_pairs:\n",
    "    print(score, doc)"
   ]
  },
  {
   "cell_type": "code",
   "execution_count": null,
   "metadata": {},
   "outputs": [],
   "source": []
  }
 ],
 "metadata": {
  "kernelspec": {
   "display_name": "base",
   "language": "python",
   "name": "python3"
  },
  "language_info": {
   "codemirror_mode": {
    "name": "ipython",
    "version": 3
   },
   "file_extension": ".py",
   "mimetype": "text/x-python",
   "name": "python",
   "nbconvert_exporter": "python",
   "pygments_lexer": "ipython3",
   "version": "3.7.12"
  },
  "orig_nbformat": 4,
  "vscode": {
   "interpreter": {
    "hash": "d4d1e4263499bec80672ea0156c357c1ee493ec2b1c70f0acce89fc37c4a6abe"
   }
  }
 },
 "nbformat": 4,
 "nbformat_minor": 2
}
